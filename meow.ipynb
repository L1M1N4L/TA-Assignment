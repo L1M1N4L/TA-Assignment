{
 "cells": [
  {
   "cell_type": "code",
   "execution_count": 4,
   "metadata": {},
   "outputs": [
    {
     "ename": "ValueError",
     "evalue": "invalid literal for int() with base 10: ''",
     "output_type": "error",
     "traceback": [
      "\u001b[0;31m---------------------------------------------------------------------------\u001b[0m",
      "\u001b[0;31mValueError\u001b[0m                                Traceback (most recent call last)",
      "\u001b[1;32mUntitled-1.ipynb Cell 1\u001b[0m line \u001b[0;36m2\n\u001b[1;32m     <a href='vscode-notebook-cell:Untitled-1.ipynb?jupyter-notebook#W0sdW50aXRsZWQ%3D?line=18'>19</a>\u001b[0m         \u001b[39mprint\u001b[39m(\u001b[39m\"\u001b[39m\u001b[39mBoth words cannot be linked.\u001b[39m\u001b[39m\"\u001b[39m)\n\u001b[1;32m     <a href='vscode-notebook-cell:Untitled-1.ipynb?jupyter-notebook#W0sdW50aXRsZWQ%3D?line=20'>21</a>\u001b[0m \u001b[39m# Example usage:\u001b[39;00m\n\u001b[0;32m---> <a href='vscode-notebook-cell:Untitled-1.ipynb?jupyter-notebook#W0sdW50aXRsZWQ%3D?line=21'>22</a>\u001b[0m word1_length \u001b[39m=\u001b[39m \u001b[39mint\u001b[39;49m(\u001b[39minput\u001b[39;49m(\u001b[39m\"\u001b[39;49m\u001b[39mLength of the first word: \u001b[39;49m\u001b[39m\"\u001b[39;49m))\n\u001b[1;32m     <a href='vscode-notebook-cell:Untitled-1.ipynb?jupyter-notebook#W0sdW50aXRsZWQ%3D?line=22'>23</a>\u001b[0m word1 \u001b[39m=\u001b[39m \u001b[39minput\u001b[39m(\u001b[39m\"\u001b[39m\u001b[39mFirst word: \u001b[39m\u001b[39m\"\u001b[39m)\n\u001b[1;32m     <a href='vscode-notebook-cell:Untitled-1.ipynb?jupyter-notebook#W0sdW50aXRsZWQ%3D?line=24'>25</a>\u001b[0m word2_length \u001b[39m=\u001b[39m \u001b[39mint\u001b[39m(\u001b[39minput\u001b[39m(\u001b[39m\"\u001b[39m\u001b[39mLength of the second word: \u001b[39m\u001b[39m\"\u001b[39m))\n",
      "\u001b[0;31mValueError\u001b[0m: invalid literal for int() with base 10: ''"
     ]
    }
   ],
   "source": [
    "w1 = input(\"Word 1: \").lower()\n",
    "w2 = input(\"Word 2: \").lower()\n",
    "\n",
    "t = 0\n",
    "\n",
    "def check_letter(sub, s, t):\n",
    "    if len(sub) > 1 and s[0] == sub[0] and s[1] == sub[1]:\n",
    "        print(f\"Linked: {sub}.\")\n",
    "        t += 1\n",
    "    elif len(sub) == 1 and s[0] == sub:\n",
    "        print(f\"Linked: {sub}.\")\n",
    "        t += 1\n",
    " \n",
    "w1_list = list(w1)\n",
    "w1_mod = w1\n",
    "\n",
    "for i in range(len(w1)):\n",
    "    if w2.find(w1_mod) >= 0:\n",
    "        check_letter(w1_mod, w2, t)\n",
    "        break\n",
    "    else:\n",
    "        w1_list.remove(w1[i])\n",
    "        w1_mod = ''.join(w1_list)\n",
    "\n",
    "if t == 0:\n",
    "    print(\"Not linked.\")"
   ]
  },
  {
   "cell_type": "code",
   "execution_count": null,
   "metadata": {},
   "outputs": [],
   "source": [
    "n = int(input(\"Enter a number: \"))\n",
    "\n",
    "t = 0\n",
    "bn = n\n",
    "\n",
    "while t == 0:\n",
    "    if bn % n == 0:\n",
    "        nl = []\n",
    "        for d in str(bn):\n",
    "            if int(d) in nl:\n",
    "                pass\n",
    "            else:\n",
    "                nl.append(int(d))\n",
    "\n",
    "        if len(nl) == 1:\n",
    "            t += 1\n",
    "            print(f\"The smallest beautiful number is {bn}\")\n",
    "\n",
    "    bn += 1\n"
   ]
  }
 ],
 "metadata": {
  "kernelspec": {
   "display_name": "Python 3",
   "language": "python",
   "name": "python3"
  },
  "language_info": {
   "codemirror_mode": {
    "name": "ipython",
    "version": 3
   },
   "file_extension": ".py",
   "mimetype": "text/x-python",
   "name": "python",
   "nbconvert_exporter": "python",
   "pygments_lexer": "ipython3",
   "version": "3.11.5"
  }
 },
 "nbformat": 4,
 "nbformat_minor": 2
}
